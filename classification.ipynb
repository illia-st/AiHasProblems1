{
 "cells": [
  {
   "cell_type": "code",
   "execution_count": 1,
   "id": "6f17453d-27fa-4909-b45e-db79aeb83edc",
   "metadata": {},
   "outputs": [],
   "source": [
    "import numpy as np\n",
    "import pandas as pd"
   ]
  },
  {
   "cell_type": "code",
   "execution_count": 2,
   "id": "75d34f6f-cdd7-4e24-beb8-2022f36ceafb",
   "metadata": {},
   "outputs": [
    {
     "data": {
      "text/html": [
       "<div>\n",
       "<style scoped>\n",
       "    .dataframe tbody tr th:only-of-type {\n",
       "        vertical-align: middle;\n",
       "    }\n",
       "\n",
       "    .dataframe tbody tr th {\n",
       "        vertical-align: top;\n",
       "    }\n",
       "\n",
       "    .dataframe thead th {\n",
       "        text-align: right;\n",
       "    }\n",
       "</style>\n",
       "<table border=\"1\" class=\"dataframe\">\n",
       "  <thead>\n",
       "    <tr style=\"text-align: right;\">\n",
       "      <th></th>\n",
       "      <th>sepal_length</th>\n",
       "      <th>sepal_width</th>\n",
       "      <th>petal_length</th>\n",
       "      <th>petal_width</th>\n",
       "      <th>species</th>\n",
       "    </tr>\n",
       "  </thead>\n",
       "  <tbody>\n",
       "    <tr>\n",
       "      <th>0</th>\n",
       "      <td>5.1</td>\n",
       "      <td>3.5</td>\n",
       "      <td>1.4</td>\n",
       "      <td>0.2</td>\n",
       "      <td>Iris-setosa</td>\n",
       "    </tr>\n",
       "    <tr>\n",
       "      <th>1</th>\n",
       "      <td>4.9</td>\n",
       "      <td>3.0</td>\n",
       "      <td>1.4</td>\n",
       "      <td>0.2</td>\n",
       "      <td>Iris-setosa</td>\n",
       "    </tr>\n",
       "    <tr>\n",
       "      <th>2</th>\n",
       "      <td>4.7</td>\n",
       "      <td>3.2</td>\n",
       "      <td>1.3</td>\n",
       "      <td>0.2</td>\n",
       "      <td>Iris-setosa</td>\n",
       "    </tr>\n",
       "    <tr>\n",
       "      <th>3</th>\n",
       "      <td>4.6</td>\n",
       "      <td>3.1</td>\n",
       "      <td>1.5</td>\n",
       "      <td>0.2</td>\n",
       "      <td>Iris-setosa</td>\n",
       "    </tr>\n",
       "    <tr>\n",
       "      <th>4</th>\n",
       "      <td>5.0</td>\n",
       "      <td>3.6</td>\n",
       "      <td>1.4</td>\n",
       "      <td>0.2</td>\n",
       "      <td>Iris-setosa</td>\n",
       "    </tr>\n",
       "    <tr>\n",
       "      <th>...</th>\n",
       "      <td>...</td>\n",
       "      <td>...</td>\n",
       "      <td>...</td>\n",
       "      <td>...</td>\n",
       "      <td>...</td>\n",
       "    </tr>\n",
       "    <tr>\n",
       "      <th>145</th>\n",
       "      <td>6.7</td>\n",
       "      <td>3.0</td>\n",
       "      <td>5.2</td>\n",
       "      <td>2.3</td>\n",
       "      <td>Iris-virginica</td>\n",
       "    </tr>\n",
       "    <tr>\n",
       "      <th>146</th>\n",
       "      <td>6.3</td>\n",
       "      <td>2.5</td>\n",
       "      <td>5.0</td>\n",
       "      <td>1.9</td>\n",
       "      <td>Iris-virginica</td>\n",
       "    </tr>\n",
       "    <tr>\n",
       "      <th>147</th>\n",
       "      <td>6.5</td>\n",
       "      <td>3.0</td>\n",
       "      <td>5.2</td>\n",
       "      <td>2.0</td>\n",
       "      <td>Iris-virginica</td>\n",
       "    </tr>\n",
       "    <tr>\n",
       "      <th>148</th>\n",
       "      <td>6.2</td>\n",
       "      <td>3.4</td>\n",
       "      <td>5.4</td>\n",
       "      <td>2.3</td>\n",
       "      <td>Iris-virginica</td>\n",
       "    </tr>\n",
       "    <tr>\n",
       "      <th>149</th>\n",
       "      <td>5.9</td>\n",
       "      <td>3.0</td>\n",
       "      <td>5.1</td>\n",
       "      <td>1.8</td>\n",
       "      <td>Iris-virginica</td>\n",
       "    </tr>\n",
       "  </tbody>\n",
       "</table>\n",
       "<p>150 rows × 5 columns</p>\n",
       "</div>"
      ],
      "text/plain": [
       "     sepal_length  sepal_width  petal_length  petal_width         species\n",
       "0             5.1          3.5           1.4          0.2     Iris-setosa\n",
       "1             4.9          3.0           1.4          0.2     Iris-setosa\n",
       "2             4.7          3.2           1.3          0.2     Iris-setosa\n",
       "3             4.6          3.1           1.5          0.2     Iris-setosa\n",
       "4             5.0          3.6           1.4          0.2     Iris-setosa\n",
       "..            ...          ...           ...          ...             ...\n",
       "145           6.7          3.0           5.2          2.3  Iris-virginica\n",
       "146           6.3          2.5           5.0          1.9  Iris-virginica\n",
       "147           6.5          3.0           5.2          2.0  Iris-virginica\n",
       "148           6.2          3.4           5.4          2.3  Iris-virginica\n",
       "149           5.9          3.0           5.1          1.8  Iris-virginica\n",
       "\n",
       "[150 rows x 5 columns]"
      ]
     },
     "execution_count": 2,
     "metadata": {},
     "output_type": "execute_result"
    }
   ],
   "source": [
    "df = pd.read_csv('IRIS.csv')\n",
    "df"
   ]
  },
  {
   "cell_type": "code",
   "execution_count": 3,
   "id": "07907dfc-c7af-474b-a233-d9ab99f8466c",
   "metadata": {},
   "outputs": [],
   "source": [
    "from sklearn.neighbors import KNeighborsClassifier\n",
    "from sklearn.model_selection import train_test_split"
   ]
  },
  {
   "cell_type": "code",
   "execution_count": 4,
   "id": "dc232a7e-d1b4-4b3d-99cd-0c6d2670045b",
   "metadata": {},
   "outputs": [],
   "source": [
    "x=df.drop(\"species\",axis=1)\n",
    "y=df[\"species\"]"
   ]
  },
  {
   "cell_type": "code",
   "execution_count": 5,
   "id": "b254c956-95ec-47fc-846d-c6418bf120e1",
   "metadata": {},
   "outputs": [
    {
     "data": {
      "text/plain": [
       "0         Iris-setosa\n",
       "1         Iris-setosa\n",
       "2         Iris-setosa\n",
       "3         Iris-setosa\n",
       "4         Iris-setosa\n",
       "            ...      \n",
       "145    Iris-virginica\n",
       "146    Iris-virginica\n",
       "147    Iris-virginica\n",
       "148    Iris-virginica\n",
       "149    Iris-virginica\n",
       "Name: species, Length: 150, dtype: object"
      ]
     },
     "execution_count": 5,
     "metadata": {},
     "output_type": "execute_result"
    }
   ],
   "source": [
    "y"
   ]
  },
  {
   "cell_type": "code",
   "execution_count": 6,
   "id": "ff7faa2a-de00-4f14-b9e4-4ca6d2f734a5",
   "metadata": {},
   "outputs": [],
   "source": [
    "x_train,x_test,y_train,y_test=train_test_split(x,y,test_size=0.30,random_state=3,stratify=y)"
   ]
  },
  {
   "cell_type": "code",
   "execution_count": 7,
   "id": "526b6336-5043-4753-82d2-094fba66d507",
   "metadata": {},
   "outputs": [
    {
     "name": "stdout",
     "output_type": "stream",
     "text": [
      "Shape of x_train is :  (105, 4)\n",
      "Shape of x_test is :  (45, 4)\n",
      "Shape of y_train is :  (105,)\n",
      "Shape of y_test is :  (45,)\n"
     ]
    }
   ],
   "source": [
    "print('Shape of x_train is : ', x_train.shape)\n",
    "print('Shape of x_test is : ',  x_test.shape)\n",
    "print('Shape of y_train is : ', y_train.shape)\n",
    "print('Shape of y_test is : ',  y_test.shape)"
   ]
  },
  {
   "cell_type": "code",
   "execution_count": 8,
   "id": "33672bed-0580-4eef-a98d-8fb31cef0e65",
   "metadata": {},
   "outputs": [],
   "source": [
    "knn = KNeighborsClassifier(n_neighbors=3)\n",
    "\n",
    "# Fit the classifier to your training data\n",
    "knn.fit(x_train, y_train)  # X_train contains your feature data, y_train contains your labels\n",
    "\n",
    "# Make predictions for new data points\n",
    "predictions = knn.predict(x_test) "
   ]
  },
  {
   "cell_type": "code",
   "execution_count": 9,
   "id": "cdf75c3a-ae70-40b9-947f-6f7085fe5688",
   "metadata": {},
   "outputs": [
    {
     "data": {
      "text/plain": [
       "array(['Iris-setosa', 'Iris-virginica', 'Iris-setosa', 'Iris-versicolor',\n",
       "       'Iris-versicolor', 'Iris-virginica', 'Iris-setosa',\n",
       "       'Iris-versicolor', 'Iris-virginica', 'Iris-versicolor',\n",
       "       'Iris-virginica', 'Iris-setosa', 'Iris-versicolor',\n",
       "       'Iris-versicolor', 'Iris-versicolor', 'Iris-virginica',\n",
       "       'Iris-virginica', 'Iris-virginica', 'Iris-versicolor',\n",
       "       'Iris-setosa', 'Iris-virginica', 'Iris-virginica',\n",
       "       'Iris-virginica', 'Iris-setosa', 'Iris-setosa', 'Iris-versicolor',\n",
       "       'Iris-setosa', 'Iris-setosa', 'Iris-virginica', 'Iris-virginica',\n",
       "       'Iris-virginica', 'Iris-setosa', 'Iris-virginica',\n",
       "       'Iris-versicolor', 'Iris-virginica', 'Iris-setosa', 'Iris-setosa',\n",
       "       'Iris-setosa', 'Iris-setosa', 'Iris-versicolor', 'Iris-virginica',\n",
       "       'Iris-setosa', 'Iris-versicolor', 'Iris-virginica',\n",
       "       'Iris-versicolor'], dtype=object)"
      ]
     },
     "execution_count": 9,
     "metadata": {},
     "output_type": "execute_result"
    }
   ],
   "source": [
    "predictions"
   ]
  },
  {
   "cell_type": "code",
   "execution_count": 10,
   "id": "6441be58-750d-4ebf-af32-d6311cd651fd",
   "metadata": {},
   "outputs": [
    {
     "data": {
      "text/plain": [
       "42         Iris-setosa\n",
       "148     Iris-virginica\n",
       "19         Iris-setosa\n",
       "96     Iris-versicolor\n",
       "51     Iris-versicolor\n",
       "135     Iris-virginica\n",
       "8          Iris-setosa\n",
       "68     Iris-versicolor\n",
       "134     Iris-virginica\n",
       "86     Iris-versicolor\n",
       "83     Iris-versicolor\n",
       "0          Iris-setosa\n",
       "88     Iris-versicolor\n",
       "60     Iris-versicolor\n",
       "57     Iris-versicolor\n",
       "104     Iris-virginica\n",
       "141     Iris-virginica\n",
       "77     Iris-versicolor\n",
       "71     Iris-versicolor\n",
       "20         Iris-setosa\n",
       "123     Iris-virginica\n",
       "144     Iris-virginica\n",
       "116     Iris-virginica\n",
       "21         Iris-setosa\n",
       "10         Iris-setosa\n",
       "82     Iris-versicolor\n",
       "49         Iris-setosa\n",
       "32         Iris-setosa\n",
       "142     Iris-virginica\n",
       "102     Iris-virginica\n",
       "139     Iris-virginica\n",
       "38         Iris-setosa\n",
       "101     Iris-virginica\n",
       "85     Iris-versicolor\n",
       "120     Iris-virginica\n",
       "44         Iris-setosa\n",
       "3          Iris-setosa\n",
       "29         Iris-setosa\n",
       "24         Iris-setosa\n",
       "66     Iris-versicolor\n",
       "119     Iris-virginica\n",
       "41         Iris-setosa\n",
       "87     Iris-versicolor\n",
       "118     Iris-virginica\n",
       "89     Iris-versicolor\n",
       "Name: species, dtype: object"
      ]
     },
     "execution_count": 10,
     "metadata": {},
     "output_type": "execute_result"
    }
   ],
   "source": [
    "y_test"
   ]
  },
  {
   "cell_type": "code",
   "execution_count": 11,
   "id": "f16da52c-71d4-4795-b6d2-f61df4b17d64",
   "metadata": {},
   "outputs": [],
   "source": [
    "class KNNClassifier:\n",
    "    def __init__(self, k=3):\n",
    "        self.k = k\n",
    "\n",
    "    def fit(self, X_train, y_train):\n",
    "        self.X_train = X_train\n",
    "        self.y_train = y_train\n",
    "\n",
    "    def euclidean_distance(self, x1, x2):\n",
    "        return np.sqrt(np.sum((x1 - x2) ** 2))\n",
    "\n",
    "    def predict(self, X_test):\n",
    "        y_pred = [self._predict(x) for x in X_test]\n",
    "        return np.array(y_pred)\n",
    "\n",
    "    def _predict(self, x):\n",
    "        # Знайдіть відстані між x та всіма прикладами в навчальному наборі.\n",
    "        distances = [self.euclidean_distance(x, x_train) for x_train in self.X_train]\n",
    "        # Отримайте індекси k найближчих прикладів.\n",
    "        k_indices = np.argsort(distances)[:self.k]\n",
    "        # Отримайте класи цих найближчих прикладів.\n",
    "        k_nearest_labels = [self.y_train[i] for i in k_indices]\n",
    "        # Поверніть клас, який найчастіше зустрічається серед найближчих сусідів.\n",
    "        most_common = np.bincount(k_nearest_labels).argmax()\n",
    "        return most_common"
   ]
  },
  {
   "cell_type": "code",
   "execution_count": 12,
   "id": "0487331f-752b-419f-90c0-5efcd69d3298",
   "metadata": {},
   "outputs": [
    {
     "data": {
      "text/plain": [
       "array([0, 0, 0, 2, 2, 2, 0, 1, 0, 0, 2, 0, 2, 1, 0, 2, 1, 1, 1, 0, 0, 2,\n",
       "       1, 0, 1, 0, 0, 1, 1, 1, 2, 1, 0, 0, 2, 1, 2, 1, 1, 1, 2, 1, 2, 2,\n",
       "       1, 2, 2, 1, 2, 1, 0, 2, 1, 0, 0, 0, 0, 2, 1, 1, 2, 0, 0, 0, 2, 2,\n",
       "       1, 0, 0, 0, 2, 2, 2, 2, 1, 1, 2, 2, 2, 0, 1, 1, 1, 0, 1, 2, 1, 0,\n",
       "       1, 1, 1, 2, 2, 1, 2, 0, 0, 0, 2, 2, 0, 0, 0, 1, 2])"
      ]
     },
     "execution_count": 12,
     "metadata": {},
     "output_type": "execute_result"
    }
   ],
   "source": [
    "y_train_index_to_type = {\n",
    "    0: 'Iris-setosa',\n",
    "    1: 'Iris-virginica',\n",
    "    2: 'Iris-versicolor',\n",
    "}\n",
    "y_train_type_to_index = {\n",
    "    'Iris-setosa': 0,\n",
    "    'Iris-virginica': 1,\n",
    "    'Iris-versicolor': 2,\n",
    "}\n",
    "y_train_index = np.empty(len(y_train), dtype=int)\n",
    "for i, class_label in enumerate(y_train):\n",
    "    y_train_index[i] = y_train_type_to_index.get(class_label)\n",
    "\n",
    "y_train_index"
   ]
  },
  {
   "cell_type": "code",
   "execution_count": 13,
   "id": "44414fbd-eddc-4fca-9dba-1b7773ae671a",
   "metadata": {},
   "outputs": [
    {
     "data": {
      "text/plain": [
       "16         Iris-setosa\n",
       "33         Iris-setosa\n",
       "39         Iris-setosa\n",
       "55     Iris-versicolor\n",
       "58     Iris-versicolor\n",
       "            ...       \n",
       "7          Iris-setosa\n",
       "46         Iris-setosa\n",
       "43         Iris-setosa\n",
       "106     Iris-virginica\n",
       "84     Iris-versicolor\n",
       "Name: species, Length: 105, dtype: object"
      ]
     },
     "execution_count": 13,
     "metadata": {},
     "output_type": "execute_result"
    }
   ],
   "source": [
    "y_train"
   ]
  },
  {
   "cell_type": "code",
   "execution_count": 14,
   "id": "efc629da-25db-4f1c-bc85-104ce538077a",
   "metadata": {},
   "outputs": [
    {
     "data": {
      "text/plain": [
       "array([0, 1, 0, 2, 2, 1, 0, 2, 1, 2, 1, 0, 2, 2, 2, 1, 1, 1, 2, 0, 1, 1,\n",
       "       1, 0, 0, 2, 0, 0, 1, 1, 1, 0, 1, 2, 1, 0, 0, 0, 0, 2, 1, 0, 2, 1,\n",
       "       2])"
      ]
     },
     "execution_count": 14,
     "metadata": {},
     "output_type": "execute_result"
    }
   ],
   "source": [
    "my_knn = KNNClassifier()\n",
    "my_knn.fit(np.array(x_train), y_train_index)\n",
    "my_prediction = my_knn.predict(np.array(x_test))\n",
    "my_prediction"
   ]
  },
  {
   "cell_type": "code",
   "execution_count": 15,
   "id": "3cc94660-8205-48d1-980c-d2e3b42227aa",
   "metadata": {},
   "outputs": [
    {
     "data": {
      "text/plain": [
       "['Iris-setosa',\n",
       " 'Iris-virginica',\n",
       " 'Iris-setosa',\n",
       " 'Iris-versicolor',\n",
       " 'Iris-versicolor',\n",
       " 'Iris-virginica',\n",
       " 'Iris-setosa',\n",
       " 'Iris-versicolor',\n",
       " 'Iris-virginica',\n",
       " 'Iris-versicolor',\n",
       " 'Iris-virginica',\n",
       " 'Iris-setosa',\n",
       " 'Iris-versicolor',\n",
       " 'Iris-versicolor',\n",
       " 'Iris-versicolor',\n",
       " 'Iris-virginica',\n",
       " 'Iris-virginica',\n",
       " 'Iris-virginica',\n",
       " 'Iris-versicolor',\n",
       " 'Iris-setosa',\n",
       " 'Iris-virginica',\n",
       " 'Iris-virginica',\n",
       " 'Iris-virginica',\n",
       " 'Iris-setosa',\n",
       " 'Iris-setosa',\n",
       " 'Iris-versicolor',\n",
       " 'Iris-setosa',\n",
       " 'Iris-setosa',\n",
       " 'Iris-virginica',\n",
       " 'Iris-virginica',\n",
       " 'Iris-virginica',\n",
       " 'Iris-setosa',\n",
       " 'Iris-virginica',\n",
       " 'Iris-versicolor',\n",
       " 'Iris-virginica',\n",
       " 'Iris-setosa',\n",
       " 'Iris-setosa',\n",
       " 'Iris-setosa',\n",
       " 'Iris-setosa',\n",
       " 'Iris-versicolor',\n",
       " 'Iris-virginica',\n",
       " 'Iris-setosa',\n",
       " 'Iris-versicolor',\n",
       " 'Iris-virginica',\n",
       " 'Iris-versicolor']"
      ]
     },
     "execution_count": 15,
     "metadata": {},
     "output_type": "execute_result"
    }
   ],
   "source": [
    "[y_train_index_to_type[index] for index in my_prediction]"
   ]
  },
  {
   "cell_type": "code",
   "execution_count": 24,
   "id": "fe165bc4-9436-4e4a-962a-9b0d6235b771",
   "metadata": {},
   "outputs": [],
   "source": [
    "from sklearn import svm"
   ]
  },
  {
   "cell_type": "code",
   "execution_count": 57,
   "id": "cfae40e6-95fa-4c48-8558-ac0617b1780e",
   "metadata": {},
   "outputs": [],
   "source": [
    "class SVM:\n",
    "    def __init__(self, learning_rate=0.001, lambda_param=0.01, n_iters=1000):\n",
    "        self.lr = learning_rate\n",
    "        self.lambda_param = lambda_param\n",
    "        self.n_iters = n_iters\n",
    "        self.w = None\n",
    "        self.b = None\n",
    "\n",
    "    def fit(self, X, y):\n",
    "        n_samples, n_features = X.shape\n",
    "\n",
    "        y_ = np.where(y <= 0, -1, 1)\n",
    "\n",
    "        self.w = np.zeros(n_features)\n",
    "        self.b = 0\n",
    "\n",
    "        for _ in range(self.n_iters):\n",
    "            for idx, x_i in enumerate(X):\n",
    "                condition = y_[idx] * (np.dot(x_i, self.w) - self.b) >= 1\n",
    "                if condition:\n",
    "                    self.w -= self.lr * (2 * self.lambda_param * self.w)\n",
    "                else:\n",
    "                    self.w -= self.lr * (\n",
    "                        2 * self.lambda_param * self.w - np.dot(x_i, y_[idx])\n",
    "                    )\n",
    "                    self.b -= self.lr * y_[idx]\n",
    "\n",
    "    def predict(self, X):\n",
    "        approx = np.dot(X, self.w) - self.b\n",
    "        return np.sign(approx)\n",
    "\n",
    "\n",
    "class CustomSVM:\n",
    "    def __init__(self):\n",
    "        self.classifiers = []\n",
    "\n",
    "    def fit(self, X, y):\n",
    "        unique_classes = np.unique(y)\n",
    "        num_classes = len(unique_classes)\n",
    "        for i in range(num_classes):\n",
    "            for j in range(i + 1, num_classes):\n",
    "                mask = np.logical_or(y == unique_classes[i], y == unique_classes[j])\n",
    "                X_pair = X[mask]\n",
    "                y_pair = y[mask]\n",
    "\n",
    "                y_binary = np.where(y_pair == unique_classes[i], 1, -1)\n",
    "\n",
    "                classifier = SVM()\n",
    "                classifier.fit(X_pair, y_binary)\n",
    "\n",
    "                self.classifiers.append((unique_classes[i], unique_classes[j], classifier))\n",
    "\n",
    "    def predict(self, X):\n",
    "        num_samples = X.shape[0]\n",
    "        num_classifiers = len(self.classifiers)\n",
    "        num_classes = len(np.unique([c for c, _, _ in self.classifiers]))\n",
    "        class_scores = np.zeros((num_samples, num_classes))\n",
    "    \n",
    "        for i, (_, _, classifier) in enumerate(self.classifiers):\n",
    "            binary_scores = classifier.predict(X)\n",
    "            \n",
    "            class_indices = [c for c, _, _ in self.classifiers]\n",
    "            class_index = class_indices[i]\n",
    "            \n",
    "            class_scores[:, class_index] += binary_scores\n",
    "    \n",
    "        final_predictions = np.argmax(class_scores, axis=1)\n",
    "    \n",
    "        return final_predictions"
   ]
  },
  {
   "cell_type": "code",
   "execution_count": 58,
   "id": "89f349cc-e177-4d74-89f1-039e16c64aa1",
   "metadata": {},
   "outputs": [],
   "source": [
    "custom_svm = CustomSVM()\n",
    "custom_svm.fit(np.array(x_train), y_train_index)"
   ]
  },
  {
   "cell_type": "code",
   "execution_count": 59,
   "id": "cf5df78b-6aa4-4794-b0c5-f069ab12dad7",
   "metadata": {},
   "outputs": [
    {
     "data": {
      "text/plain": [
       "['Iris-setosa',\n",
       " 'Iris-virginica',\n",
       " 'Iris-setosa',\n",
       " 'Iris-virginica',\n",
       " 'Iris-virginica',\n",
       " 'Iris-virginica',\n",
       " 'Iris-setosa',\n",
       " 'Iris-virginica',\n",
       " 'Iris-virginica',\n",
       " 'Iris-virginica',\n",
       " 'Iris-virginica',\n",
       " 'Iris-setosa',\n",
       " 'Iris-virginica',\n",
       " 'Iris-virginica',\n",
       " 'Iris-virginica',\n",
       " 'Iris-virginica',\n",
       " 'Iris-virginica',\n",
       " 'Iris-virginica',\n",
       " 'Iris-virginica',\n",
       " 'Iris-setosa',\n",
       " 'Iris-virginica',\n",
       " 'Iris-virginica',\n",
       " 'Iris-virginica',\n",
       " 'Iris-setosa',\n",
       " 'Iris-setosa',\n",
       " 'Iris-virginica',\n",
       " 'Iris-setosa',\n",
       " 'Iris-setosa',\n",
       " 'Iris-virginica',\n",
       " 'Iris-virginica',\n",
       " 'Iris-virginica',\n",
       " 'Iris-setosa',\n",
       " 'Iris-virginica',\n",
       " 'Iris-virginica',\n",
       " 'Iris-virginica',\n",
       " 'Iris-setosa',\n",
       " 'Iris-setosa',\n",
       " 'Iris-setosa',\n",
       " 'Iris-setosa',\n",
       " 'Iris-virginica',\n",
       " 'Iris-virginica',\n",
       " 'Iris-setosa',\n",
       " 'Iris-virginica',\n",
       " 'Iris-virginica',\n",
       " 'Iris-virginica']"
      ]
     },
     "execution_count": 59,
     "metadata": {},
     "output_type": "execute_result"
    }
   ],
   "source": [
    "prediction = custom_svm.predict(np.array(x_test))\n",
    "prediction\n",
    "[y_train_index_to_type[index] for index in prediction]"
   ]
  },
  {
   "cell_type": "code",
   "execution_count": null,
   "id": "76185b99-175d-495b-a441-e9f649fcbb9a",
   "metadata": {},
   "outputs": [],
   "source": []
  }
 ],
 "metadata": {
  "kernelspec": {
   "display_name": "Python 3 (ipykernel)",
   "language": "python",
   "name": "python3"
  },
  "language_info": {
   "codemirror_mode": {
    "name": "ipython",
    "version": 3
   },
   "file_extension": ".py",
   "mimetype": "text/x-python",
   "name": "python",
   "nbconvert_exporter": "python",
   "pygments_lexer": "ipython3",
   "version": "3.11.2"
  }
 },
 "nbformat": 4,
 "nbformat_minor": 5
}
